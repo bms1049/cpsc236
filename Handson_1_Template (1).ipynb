{
 "cells": [
  {
   "cell_type": "markdown",
   "metadata": {},
   "source": [
    "# Chapter 2 - How to write your first program"
   ]
  },
  {
   "cell_type": "markdown",
   "metadata": {},
   "source": [
    "## 2.1 Student Registration\n",
    "Create a program that allows a student to complete a registration form and displays a completion message that includes the user’s full name and a temporary password.\n",
    "\n",
    "### Console:\n",
    "```powershell\n",
    "Registration Form\n",
    "\n",
    "First Name: Eric\n",
    "Last Name: Idle\n",
    "Birth Year: 1934\n",
    "\n",
    "Welcome Eric Idle!\n",
    "Your registration is complete!\n",
    "Your temporary password is: Eric*1934\n",
    "```\n",
    "\n",
    "### Specifications:\n",
    "- The user’s full name consists of the user’s first name, a space, and the user’s last name.\n",
    "- The temporary password consists of the user’s first name, an asterisk (*), and the user’s birth year.\n",
    "- Assume the user will enter valid data.\n"
   ]
  },
  {
   "cell_type": "code",
   "execution_count": 13,
   "metadata": {},
   "outputs": [
    {
     "name": "stdin",
     "output_type": "stream",
     "text": [
      "First Name:  Brody\n",
      "Last Name:  Scott\n",
      "Birth Year:  2005\n"
     ]
    },
    {
     "name": "stdout",
     "output_type": "stream",
     "text": [
      "Welcome Brody Scott!\n",
      "Your registration is complete!\n",
      "Your temporary password is: Brody*2005\n"
     ]
    }
   ],
   "source": [
    "### CODE HERE ###\n",
    "#vars\n",
    "fName=input(\"First Name: \")\n",
    "lName=input(\"Last Name: \")\n",
    "bYear=input(\"Birth Year: \")\n",
    "#store the temp password\n",
    "temp=(fName+\"*\"+bYear)\n",
    "#output\n",
    "print(\"Welcome\",fName,lName, end=\"!\")\n",
    "print(\"\\nYour registration is complete!\")\n",
    "print(\"Your temporary password is:\",temp)"
   ]
  },
  {
   "cell_type": "markdown",
   "metadata": {},
   "source": [
    "## 2.2 - Pay Check Calculator\n",
    "Create a program that calculates a user’s weekly gross and take-home pay.\n",
    "\n",
    "### Console\n",
    "```powershell\n",
    "Pay Check Calculator\n",
    "\n",
    "Hours Worked: 35\n",
    "Hourly Pay Rate: 14.50\n",
    "\n",
    "Gross Pay: 507.5\n",
    "Tax Rate: 18%\n",
    "Tax Amount: 91.35\n",
    "Take Home Pay: 416.15\n",
    "```\n",
    "\n",
    "### Specifications:\n",
    "- The formula for calculating gross pay is:\n",
    "`gross pay = hours worked * hourly rate`\n",
    "- The formula for calculating tax amount is:\n",
    "`tax amount = gross pay * (tax rate / 100)`\n",
    "- The formula for calculating take home pay is:\n",
    "`take home pay = gross pay – tax amount`\n",
    "- The tax rate should be 18%, but the program should store the tax rate in a variable so that you can easily change the tax rate later, just by changing the value that’s stored in the variable.\n",
    "- The program should accept decimal entries like 35.5 and 14.25.\n",
    "- Assume the user will enter valid data.\n",
    "- The program should round the results to a maximum of two decimal places.\n"
   ]
  },
  {
   "cell_type": "code",
   "execution_count": 29,
   "metadata": {},
   "outputs": [
    {
     "name": "stdin",
     "output_type": "stream",
     "text": [
      "Hours Worked: 35\n",
      "Hourly Pay Rate: 14.5\n"
     ]
    },
    {
     "name": "stdout",
     "output_type": "stream",
     "text": [
      "Gross Pay: $507.5\n",
      "Tax Rate: 18%\n",
      "Tax Amount: $91.35\n",
      "Take Home Pay: $416.15\n"
     ]
    }
   ],
   "source": [
    "### CODE HERE ###\n",
    "#vars\n",
    "hWork=float(input(\"Hours Worked:\"))\n",
    "hRate=float(input(\"Hourly Pay Rate:\"))\n",
    "tRate=18\n",
    "#calc other money\n",
    "gPay=hWork*hRate\n",
    "tAmount=gPay*(tRate/100)\n",
    "tHome=gPay-tAmount\n",
    "#output\n",
    "print(\"Gross Pay: \",gPay, sep=\"$\")\n",
    "print(\"Tax Rate:\",tRate, end=\"%\")\n",
    "print(\"\\nTax Amount: \",tAmount, sep=\"$\")\n",
    "print(\"Take Home Pay: \",tHome, sep=\"$\")"
   ]
  },
  {
   "cell_type": "markdown",
   "metadata": {},
   "source": [
    "## 2.3 - Travel Time Calculator\n",
    "Create a program that calculates the estimated hours and minutes for a trip.\n",
    "\n",
    "### Console\n",
    "```powershell\n",
    "Travel Time Calculator\n",
    "\n",
    "Enter Miles: 200\n",
    "Enter Miles per Hour: 65\n",
    "\n",
    "Estimated Travel Time\n",
    "Hours: 3\n",
    "Minutes: 5\n",
    "```\n",
    "\n",
    "### Specifications\n",
    "- The program should only accept integer entries like 200 and 65.\n",
    "- Assume that the user will enter valid data.\n",
    "\n",
    "### Hint\n",
    "- Use integers with the integer division and modulus operators to get hours and minutes."
   ]
  },
  {
   "cell_type": "code",
   "execution_count": 83,
   "metadata": {},
   "outputs": [
    {
     "name": "stdin",
     "output_type": "stream",
     "text": [
      "Enter Miles: 200\n",
      "Enter Miles per Hour: 65\n"
     ]
    },
    {
     "name": "stdout",
     "output_type": "stream",
     "text": [
      "Estimated Travel Time\n",
      "Hours: 3\n",
      "Minutes: 5\n"
     ]
    }
   ],
   "source": [
    "### CODE HERE ###\n",
    "#vars\n",
    "miles=int(input(\"Enter Miles:\"))\n",
    "mph=int(input(\"Enter Miles per Hour:\"))\n",
    "#calc time\n",
    "hours=int(miles//mph)\n",
    "miles=miles%mph\n",
    "mins=miles//(mph//60)\n",
    "#output\n",
    "print(\"Estimated Travel Time\")\n",
    "print(\"Hours:\",hours)\n",
    "print(\"Minutes:\",mins)"
   ]
  },
  {
   "cell_type": "code",
   "execution_count": null,
   "metadata": {},
   "outputs": [],
   "source": []
  }
 ],
 "metadata": {
  "kernelspec": {
   "display_name": "Python [conda env:base] *",
   "language": "python",
   "name": "conda-base-py"
  },
  "language_info": {
   "codemirror_mode": {
    "name": "ipython",
    "version": 3
   },
   "file_extension": ".py",
   "mimetype": "text/x-python",
   "name": "python",
   "nbconvert_exporter": "python",
   "pygments_lexer": "ipython3",
   "version": "3.12.7"
  }
 },
 "nbformat": 4,
 "nbformat_minor": 4
}
