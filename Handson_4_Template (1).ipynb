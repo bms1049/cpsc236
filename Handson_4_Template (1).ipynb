{
 "cells": [
  {
   "cell_type": "markdown",
   "metadata": {},
   "source": [
    "# List and Tuples\n",
    "\n",
    "To submit this assignment in D2l, post the link to your notebook file on your GitHub account."
   ]
  },
  {
   "cell_type": "markdown",
   "metadata": {},
   "source": [
    "## 6.1 Prime Number Checker\n",
    "Create a program that checks whether a number is a prime number and displays its factors if it is not a prime number.\n",
    "\n",
    "### Console:\n",
    "```powershell\n",
    "Prime Number Checker\n",
    "\n",
    "Please enter an integer between 1 and 5000: 5\n",
    "5 is a prime number.\n",
    "\n",
    "Try again? (y/n): y\n",
    "\n",
    "Please enter an integer between 1 and 5000: 6\n",
    "6 is NOT a prime number.\n",
    "It has 4 factors: 1 2 3 6\n",
    "\n",
    "Try again? (y/n): y\n",
    "\n",
    "Please enter an integer between 1 and 5000: 200\n",
    "200 is NOT a prime number.\n",
    "It has 12 factors: 1 2 4 5 8 10 20 25 40 50 100 200\n",
    "\n",
    "Try again? (y/n): n\n",
    "\n",
    "Bye!\n",
    "```\n",
    "\n",
    "### Specifications:\n",
    "- A prime number is divisible by two factors (1 and itself). For example, 7 is a prime number because it is only divisible by 1 and 7.\n",
    "- If the user enters an integer that's not between 1 and 5000, the program should display an error message.\n",
    "- If the number is a prime number, the program should display a message.\n",
    "If the number is not a prime number, the program should display a message. Then, it should display the number of factors for the number and a list of those factors.\n",
    "- Store the factors for each number in a list.\n",
    "- Use functions to organize the code for this program.\n"
   ]
  },
  {
   "cell_type": "code",
   "execution_count": 23,
   "metadata": {},
   "outputs": [
    {
     "name": "stdout",
     "output_type": "stream",
     "text": [
      "Prime Number Checker\n"
     ]
    },
    {
     "name": "stdin",
     "output_type": "stream",
     "text": [
      "Enter an integer between 1 and 5000: 33\n"
     ]
    },
    {
     "name": "stdout",
     "output_type": "stream",
     "text": [
      "33 is not prime.\n",
      "it has 4 factors: [1, 3, 11, 33]\n"
     ]
    },
    {
     "name": "stdin",
     "output_type": "stream",
     "text": [
      "Try Again? (y/n): y\n",
      "Enter an integer between 1 and 5000: 9\n"
     ]
    },
    {
     "name": "stdout",
     "output_type": "stream",
     "text": [
      "9 is not prime.\n",
      "it has 3 factors: [1, 3, 9]\n"
     ]
    },
    {
     "name": "stdin",
     "output_type": "stream",
     "text": [
      "Try Again? (y/n): y\n",
      "Enter an integer between 1 and 5000: 5\n"
     ]
    },
    {
     "name": "stdout",
     "output_type": "stream",
     "text": [
      "5 is prime.\n",
      "it has 2 factors: [1, 5]\n"
     ]
    },
    {
     "name": "stdin",
     "output_type": "stream",
     "text": [
      "Try Again? (y/n): n\n"
     ]
    }
   ],
   "source": [
    "### CODE HERE ###\n",
    "#functions\n",
    "def getNum():\n",
    "    num=int(input(\"Enter an integer between 1 and 5000:\"))\n",
    "    return num\n",
    "def checkRange(num):\n",
    "    if num<1 or num>5000:\n",
    "        print(\"Please enter a number in the range.\")\n",
    "def findFactorCount(num):\n",
    "    fCount=0\n",
    "    factors=[]\n",
    "    for i in range(num):\n",
    "        i+=1\n",
    "        if num%i==0:\n",
    "            factors.append(i)\n",
    "            fCount+=1\n",
    "    return fCount\n",
    "def getFactors(num):\n",
    "    fCount=0\n",
    "    factors=[]\n",
    "    for i in range(1, num+1):\n",
    "        if num%i==0:\n",
    "            factors.append(i)\n",
    "    return factors\n",
    "\n",
    "def checkPrime(num):\n",
    "    factors=getFactors(num)\n",
    "    if len(factors)>2:\n",
    "        return \"not prime.\"\n",
    "    else:\n",
    "        return \"prime.\"\n",
    "\n",
    "def main():\n",
    "    print(\"Prime Number Checker\")\n",
    "    cont=\"y\"\n",
    "    while cont==\"y\":\n",
    "        num=-1\n",
    "        while(num>5000 or num<1):\n",
    "            num=getNum()\n",
    "            checkRange(num)\n",
    "        fCount=findFactorCount(num)\n",
    "        factors=getFactors(num)\n",
    "        prime=checkPrime(num)\n",
    "        print(num, \"is\", prime)\n",
    "        if(prime==\"prime.\"):\n",
    "            print(\"it has\", fCount, \"factors:\", factors)\n",
    "        cont=input(\"Try Again? (y/n):\")\n",
    "\n",
    "    \n",
    "\n",
    "if __name__==\"__main__\":\n",
    "    main()\n",
    "    "
   ]
  },
  {
   "cell_type": "markdown",
   "metadata": {},
   "source": [
    "## 6.2 - Contact Manager\n",
    "Create a program that a user can use to manage the primary email address and phone number for a contact.\n",
    "\n",
    "### Console\n",
    "```powershell\n",
    "Contact Manager\n",
    "\n",
    "COMMAND MENU\n",
    "list - Display all contacts\n",
    "view - View a contact\n",
    "add - Add a contact\n",
    "del - Delete a contact\n",
    "exit - Exit program\n",
    "\n",
    "Command: list\n",
    "1. Guido van Rossum\n",
    "2. Eric Idle\n",
    "\n",
    "Command: view\n",
    "Number: 2\n",
    "Name: Eric Idle\n",
    "Email: eric@ericidle.com\n",
    "Phone: +44 20 7946 0958\n",
    "\n",
    "Command: add\n",
    "Name: Mike Murach\n",
    "Email: mike@murach.com\n",
    "Phone: 559-123-4567\n",
    "Mike Murach was added.\n",
    "\n",
    "Command: del\n",
    "Number: 1\n",
    "Guido van Rossum was deleted.\n",
    "\n",
    "Command: list\n",
    "1. Eric Idle\n",
    "2. Mike Murach\n",
    "\n",
    "Command: exit\n",
    "Bye!\n",
    "```\n",
    "\n",
    "### Specifications:\n",
    "- Use a list of lists to store the data for the contacts. Provide starting data for two or more contacts.\n",
    "- For the `view` and `del` commands, display an error message if the user enters and invalid contact number.\n",
    "- When you exit the program, all changes that you made to the contact list are lost.\n",
    "\n",
    "\n"
   ]
  },
  {
   "cell_type": "code",
   "execution_count": 1,
   "metadata": {},
   "outputs": [
    {
     "name": "stdout",
     "output_type": "stream",
     "text": [
      "Contact Manager\n",
      "COMMAND MENU\n",
      "list - Display all contacts\n",
      "view - View a contact\n",
      "add - Add a contact\n",
      "del - Delete a contact\n",
      "exit - Exit program\n"
     ]
    },
    {
     "name": "stdin",
     "output_type": "stream",
     "text": [
      "Command: exit\n"
     ]
    },
    {
     "name": "stdout",
     "output_type": "stream",
     "text": [
      "Bye\n"
     ]
    }
   ],
   "source": [
    "### CODE HERE ###\n",
    "#global variables\n",
    "contacts=[\"Eric Idle\", \"Mike Murach\"]\n",
    "cEmail=[\"eric@ericidle.com\", \"mike@murach.com\"]\n",
    "cPhone=[\"+44 20 7946 0958\", \"559-123-4567\"]\n",
    "def cMenu():\n",
    "    print(\"COMMAND MENU\",\n",
    "          \"list - Display all contacts\",\n",
    "          \"view - View a contact\",\n",
    "          \"add - Add a contact\",\n",
    "          \"del - Delete a contact\",\n",
    "          \"exit - Exit program\", sep=\"\\n\")\n",
    "    \n",
    "def cList():\n",
    "    for i in range(len(contacts)):\n",
    "        print(i+1,\". \", contacts[i], sep=\"\")\n",
    "\n",
    "def cView():\n",
    "    num=int(input(\"Number:\"))\n",
    "    if(num<len(contacts)+1):\n",
    "        print(\"Name:\", contacts[num-1])\n",
    "        print(\"Email:\", cEmail[num-1])\n",
    "        print(\"Phone:\", cPhone[num-1])\n",
    "    else:\n",
    "        print(\"Enter a valid contact number.\")\n",
    "\n",
    "def cAdd():\n",
    "    name=input(\"Name:\")\n",
    "    email=input(\"Email:\")\n",
    "    phone=input(\"Phone:\")\n",
    "    contacts.append(name)\n",
    "    cEmail.append(email)\n",
    "    cPhone.append(phone)\n",
    "    print(name, \"has been added\")\n",
    "\n",
    "def cDel():\n",
    "    num=int(input(\"Number:\"))\n",
    "    if(num<len(contacts)+1):\n",
    "        name=contacts.pop(num-1)\n",
    "        cEmail.pop(num-1)\n",
    "        cPhone.pop(num-1)\n",
    "        print(name, \"has been deleted.\")       \n",
    "    else:\n",
    "        print(\"Enter a valid contact number.\")\n",
    "\n",
    "def getCommand():\n",
    "    cmd=input(\"Command:\")\n",
    "    return cmd\n",
    "\n",
    "def runCommand(cmd):\n",
    "    if cmd==\"list\":\n",
    "        cList()\n",
    "    elif cmd==\"view\":\n",
    "        cView()\n",
    "    elif cmd==\"add\":\n",
    "        cAdd()\n",
    "    elif cmd==\"del\":\n",
    "        cDel()\n",
    "    elif cmd==\"exit\":\n",
    "        print(\"Bye!\")\n",
    "    else:\n",
    "        print(\"Please input valid command.\")\n",
    "    \n",
    "\n",
    "def main():\n",
    "    cont=True\n",
    "    print(\"Contact Manager\")\n",
    "    cMenu()\n",
    "    while cont:\n",
    "        cmd=getCommand()\n",
    "        runCommand(cmd)\n",
    "        if cmd==\"exit\":\n",
    "            cont=False\n",
    "\n",
    "\n",
    "if __name__==\"__main__\":\n",
    "    main()"
   ]
  },
  {
   "cell_type": "code",
   "execution_count": null,
   "metadata": {},
   "outputs": [],
   "source": []
  }
 ],
 "metadata": {
  "kernelspec": {
   "display_name": "Python [conda env:base] *",
   "language": "python",
   "name": "conda-base-py"
  },
  "language_info": {
   "codemirror_mode": {
    "name": "ipython",
    "version": 3
   },
   "file_extension": ".py",
   "mimetype": "text/x-python",
   "name": "python",
   "nbconvert_exporter": "python",
   "pygments_lexer": "ipython3",
   "version": "3.12.7"
  }
 },
 "nbformat": 4,
 "nbformat_minor": 4
}
