{
 "cells": [
  {
   "cell_type": "markdown",
   "metadata": {},
   "source": [
    "# Exceptions\n",
    "\n",
    "To submit this assignment in D2l, post the link to your notebook file on your GitHub account."
   ]
  },
  {
   "cell_type": "markdown",
   "metadata": {},
   "source": [
    "## 8.1 Tip Calculator\n",
    "Add exception handling to a Tip Calculator program.\n",
    "\n",
    "### Console:\n",
    "```powershell\n",
    "Tip Calculator\n",
    "\n",
    "INPUT\n",
    "Cost of meal: ten\n",
    "Must be valid decimal number. Please try again. \n",
    "Cost of meal: -10\n",
    "Must be greater than 0. Please try again. \n",
    "Cost of meal: 52.31\n",
    "Tip percent:\t17.5\n",
    "Must be valid integer. Please try again. \n",
    "Tip percent:\t20\n",
    "\n",
    "OUTPUT\n",
    "Cost of meal:   52.31 \n",
    "Tip percent:    20%\n",
    "Tip amount:     10.46\n",
    "Total amount:   62.77\n",
    "```\n",
    "\n",
    "### Specifications:\n",
    "- The program should accept **decimal** entries like 52.31 and 15.5 for the cost of the meal.\n",
    "- The program should accept **integer** entries like 15, 20, 25 for the tip percent.\n",
    "- The program should validate both user entries. That way, the user can’t crash the program by entering invalid data.\n",
    "- The program should only accept numbers that are **greater than 0**.\n",
    "- The program should round results to a maximum of two decimal places.\n"
   ]
  },
  {
   "cell_type": "code",
   "execution_count": 13,
   "metadata": {},
   "outputs": [
    {
     "name": "stdout",
     "output_type": "stream",
     "text": [
      "Tip Calculator\n",
      "\n",
      "INPUT\n"
     ]
    },
    {
     "name": "stdin",
     "output_type": "stream",
     "text": [
      "Cost of meal: -5\n"
     ]
    },
    {
     "name": "stdout",
     "output_type": "stream",
     "text": [
      "Must be greater than 0. Please try again.\n",
      "ERROR\n"
     ]
    },
    {
     "name": "stdin",
     "output_type": "stream",
     "text": [
      "Cost of meal: 6\n",
      "Tip percent: -34\n"
     ]
    },
    {
     "name": "stdout",
     "output_type": "stream",
     "text": [
      "Must be greater than 0. Please try again.\n",
      "ERROR\n"
     ]
    },
    {
     "name": "stdin",
     "output_type": "stream",
     "text": [
      "Tip percent: 12\n"
     ]
    },
    {
     "name": "stdout",
     "output_type": "stream",
     "text": [
      "\n",
      "OUTPUT\n",
      "Cost of Meal: $6.0\n",
      "Tip Percent: 12%\n",
      "Tip Amount: $0.72\n",
      "Total Amount: $6.72\n"
     ]
    }
   ],
   "source": [
    "### CODE HERE ###\n",
    "def getCost():\n",
    "    while True:\n",
    "        try:\n",
    "            cost=float(input(\"Cost of meal:\"))\n",
    "            if cost<0:\n",
    "                print(\"Must be greater than 0. Please try again.\")\n",
    "                sys.exit\n",
    "            return cost\n",
    "        except ValueError:\n",
    "            print(\"Must be a valid decimal number. Please try again.\")\n",
    "        except:\n",
    "            print(\"ERROR\")\n",
    "\n",
    "def getTip():\n",
    "    while True:\n",
    "        try:\n",
    "            tip=int(input(\"Tip percent:\"))\n",
    "            if tip<0:\n",
    "                print(\"Must be greater than 0. Please try again.\")\n",
    "                sys.exit\n",
    "            return tip\n",
    "        except ValueError:\n",
    "            print(\"Must be a valid integer. Please try again.\")\n",
    "        except:\n",
    "            print(\"ERROR\")\n",
    "\n",
    "def main():\n",
    "    print(\"Tip Calculator\\n\\nINPUT\")\n",
    "    cost=getCost()\n",
    "    tipP=getTip()\n",
    "    tipA=round(((tipP/100)*cost), 2)\n",
    "    total=round((cost+tipA),2)\n",
    "    print(\"\\nOUTPUT\", \n",
    "          \"\\nCost of Meal: $\", cost, \n",
    "          \"\\nTip Percent: \", tipP, \"%\",\n",
    "          \"\\nTip Amount: $\", tipA, \n",
    "          \"\\nTotal Amount: $\", total, sep=\"\")\n",
    "    \n",
    "if __name__==\"__main__\":\n",
    "    main()"
   ]
  },
  {
   "cell_type": "markdown",
   "metadata": {},
   "source": [
    "## 8.2 Wizard Inventory\n",
    "\n",
    "Add exception handling to a program that keeps track of the inventory of items that a wizard can carry. If you still have Wizard Inventory from Handson_5, you can add the exception handling to that program. Otherwise, you can start this program from scratch.\n",
    "\n",
    "### Console if the program can't find the **inventory** file:\n",
    "```powershell\n",
    "The Wizard Inventory program\n",
    "\n",
    "COMMAND MENU\n",
    "walk - Walk down the path \n",
    "show - Show all items \n",
    "drop - Drop an item\n",
    "exit - Exit program\n",
    "\n",
    "Could not find inventory file!\n",
    "Wizard is starting with no inventory.\n",
    "\n",
    "Command: walk\n",
    "While walking down a path, you see a crossbow.\n",
    "Do you want to grab it? (y/n): y\n",
    "You picked up a crossbow.\n",
    "\n",
    "Command: show\n",
    "1. a crossbow\n",
    "\n",
    "Command: drop Number: x\n",
    "Invalid item number.\n",
    "```\n",
    "\n",
    "### The error message if the program can’t find the **items** file:\n",
    "```powershell\n",
    "Could not find items file.\t\n",
    "Exiting program. Bye!\t\n",
    "```\n",
    "\n",
    "### Specifications:\n",
    "- This program should read the text file named `wizard_all_items.txt` that contains all the items a wizard can carry.\n",
    "- When the user selects the walk command, the program should randomly pick one of the items that were read from the text file and give the user the option to grab it.\n",
    "- The current items that the wizard is carrying should be saved in an inventory file. Make sure to update this file every time the user grabs or drops an item.\n",
    "- The wizard can only carry four items at a time. For the drop command, display an error message if the user enters an invalid integer or an integer that doesn’t correspond with an item.\n",
    "- Handle all exceptions that might occur so that the user can’t cause the program to crash. If the all items file is missing, display an appropriate error message and exit the program.\n",
    "- If the inventory file is missing, display an appropriate error message and continue with an empty inventory for the user. That way, the program will write a new inventory file when the user adds items to the inventory."
   ]
  },
  {
   "cell_type": "code",
   "execution_count": 15,
   "metadata": {},
   "outputs": [
    {
     "name": "stdout",
     "output_type": "stream",
     "text": [
      "COMMAND MENU \n",
      "walk - Walk down the path \n",
      "show - Show all items \n",
      "drop - Drop an item \n",
      "exit - Exit the program\n"
     ]
    },
    {
     "name": "stdin",
     "output_type": "stream",
     "text": [
      "Command:  walk\n"
     ]
    },
    {
     "name": "stdout",
     "output_type": "stream",
     "text": [
      "While walking down a path you see a scroll of uncursing\n"
     ]
    },
    {
     "name": "stdin",
     "output_type": "stream",
     "text": [
      "Do you want to grab it? (y/n)?:  y\n"
     ]
    },
    {
     "name": "stdout",
     "output_type": "stream",
     "text": [
      "You picked up a scroll of uncursing\n"
     ]
    },
    {
     "name": "stdin",
     "output_type": "stream",
     "text": [
      "Command:  inv\n"
     ]
    },
    {
     "name": "stdout",
     "output_type": "stream",
     "text": [
      "Please enter a valid command.\n"
     ]
    },
    {
     "name": "stdin",
     "output_type": "stream",
     "text": [
      "Command:  show\n"
     ]
    },
    {
     "name": "stdout",
     "output_type": "stream",
     "text": [
      "1. a scroll of invisibility\n",
      "2. some elven bread\n",
      "3. an unknown potion\n",
      "4. a scroll of uncursing\n"
     ]
    },
    {
     "name": "stdin",
     "output_type": "stream",
     "text": [
      "Command:  drop\n"
     ]
    },
    {
     "name": "stdout",
     "output_type": "stream",
     "text": [
      "1. a scroll of invisibility\n",
      "2. some elven bread\n",
      "3. an unknown potion\n",
      "4. a scroll of uncursing\n"
     ]
    },
    {
     "name": "stdin",
     "output_type": "stream",
     "text": [
      "Number:  5\n"
     ]
    },
    {
     "name": "stdout",
     "output_type": "stream",
     "text": [
      "Please enter a number from the list.\n"
     ]
    },
    {
     "name": "stdin",
     "output_type": "stream",
     "text": [
      "Command:  drop\n"
     ]
    },
    {
     "name": "stdout",
     "output_type": "stream",
     "text": [
      "1. a scroll of invisibility\n",
      "2. some elven bread\n",
      "3. an unknown potion\n",
      "4. a scroll of uncursing\n"
     ]
    },
    {
     "name": "stdin",
     "output_type": "stream",
     "text": [
      "Number:  1\n"
     ]
    },
    {
     "name": "stdout",
     "output_type": "stream",
     "text": [
      "You dropped a scroll of invisibility\n"
     ]
    },
    {
     "name": "stdin",
     "output_type": "stream",
     "text": [
      "Command:  drop\n"
     ]
    },
    {
     "name": "stdout",
     "output_type": "stream",
     "text": [
      "1. some elven bread\n",
      "2. an unknown potion\n",
      "3. a scroll of uncursing\n"
     ]
    },
    {
     "name": "stdin",
     "output_type": "stream",
     "text": [
      "Number:  1\n"
     ]
    },
    {
     "name": "stdout",
     "output_type": "stream",
     "text": [
      "You dropped some elven bread\n"
     ]
    },
    {
     "name": "stdin",
     "output_type": "stream",
     "text": [
      "Command:  drop\n"
     ]
    },
    {
     "name": "stdout",
     "output_type": "stream",
     "text": [
      "1. an unknown potion\n",
      "2. a scroll of uncursing\n"
     ]
    },
    {
     "name": "stdin",
     "output_type": "stream",
     "text": [
      "Number:  1\n"
     ]
    },
    {
     "name": "stdout",
     "output_type": "stream",
     "text": [
      "You dropped an unknown potion\n"
     ]
    },
    {
     "name": "stdin",
     "output_type": "stream",
     "text": [
      "Command:  drop\n"
     ]
    },
    {
     "name": "stdout",
     "output_type": "stream",
     "text": [
      "1. a scroll of uncursing\n"
     ]
    },
    {
     "name": "stdin",
     "output_type": "stream",
     "text": [
      "Number:  1\n"
     ]
    },
    {
     "name": "stdout",
     "output_type": "stream",
     "text": [
      "You dropped a scroll of uncursing\n"
     ]
    },
    {
     "name": "stdin",
     "output_type": "stream",
     "text": [
      "Command:  drop\n"
     ]
    },
    {
     "name": "stdout",
     "output_type": "stream",
     "text": [
      "Inventory is empty.\n"
     ]
    },
    {
     "name": "stdin",
     "output_type": "stream",
     "text": [
      "Command:  1\n"
     ]
    },
    {
     "name": "stdout",
     "output_type": "stream",
     "text": [
      "Please enter a valid command.\n"
     ]
    },
    {
     "name": "stdin",
     "output_type": "stream",
     "text": [
      "Command:  exit\n"
     ]
    },
    {
     "name": "stdout",
     "output_type": "stream",
     "text": [
      "Bye!\n"
     ]
    }
   ],
   "source": [
    "import random\n",
    "\n",
    "def cMenu():\n",
    "    print(\"COMMAND MENU\",\n",
    "          \"\\nwalk - Walk down the path\", \n",
    "          \"\\nshow - Show all items\", \n",
    "          \"\\ndrop - Drop an item\",\n",
    "          \"\\nexit - Exit the program\")\n",
    "\n",
    "def write_inv(inv):\n",
    "    try:\n",
    "        with open(\"wizard_inventory.txt\", 'w') as file:\n",
    "            for item in inv:\n",
    "                file.write(item + \"\\n\")\n",
    "    except Exception as e:\n",
    "        print(\"Error writing inventory file:\", e)\n",
    "\n",
    "def read_inv():\n",
    "    inv = []\n",
    "    try:\n",
    "        with open(\"wizard_inventory.txt\", 'r') as file:\n",
    "            for line in file:\n",
    "                inv.append(line.strip())\n",
    "    except FileNotFoundError:\n",
    "        print(\"Inventory file not found. Starting with an empty inventory.\")\n",
    "    return inv\n",
    "\n",
    "def read_items():\n",
    "    items = []\n",
    "    try:\n",
    "        with open(\"wizard_all_items.txt\", 'r') as file:\n",
    "            for line in file:\n",
    "                items.append(line.strip())\n",
    "    except FileNotFoundError:\n",
    "        print(\"All items file not found. Program cannot continue.\")\n",
    "        exit()\n",
    "    return items\n",
    "\n",
    "def cDrop(inv):\n",
    "    if not inv:\n",
    "        print(\"Inventory is empty.\")\n",
    "        return\n",
    "    try:\n",
    "        for i, item in enumerate(inv, start=1):\n",
    "            print(f\"{i}. {item}\")\n",
    "        num = int(input(\"Number: \"))\n",
    "        if 1 <= num <= len(inv):\n",
    "            item = inv.pop(num - 1)\n",
    "            write_inv(inv)\n",
    "            print(\"You dropped\", item)\n",
    "        else:\n",
    "            print(\"Please enter a number from the list.\")\n",
    "    except ValueError:\n",
    "        print(\"Please enter a valid integer.\")\n",
    "\n",
    "def cShow(inv):\n",
    "    if not inv:\n",
    "        print(\"Inventory is empty.\")\n",
    "    else:\n",
    "        for i, item in enumerate(inv, start=1):\n",
    "            print(f\"{i}. {item}\")\n",
    "\n",
    "def cWalk(inv, items):\n",
    "    item = random.choice(items)\n",
    "    print(\"While walking down a path you see\", item)\n",
    "    grab = input(\"Do you want to grab it? (y/n)?: \").lower()\n",
    "    \n",
    "    if grab == \"y\":\n",
    "        if len(inv) < 4:\n",
    "            inv.append(item)\n",
    "            write_inv(inv)\n",
    "            print(\"You picked up\", item)\n",
    "        else:\n",
    "            print(\"You can't carry anything else. Please drop an item.\")\n",
    "    elif grab == \"n\":\n",
    "        print(\"You did not pick up\", item)\n",
    "    else:\n",
    "        print('Please respond with \"y\" or \"n\".')\n",
    "\n",
    "def main():\n",
    "    cMenu()\n",
    "    items = read_items()\n",
    "    inv = read_inv()\n",
    "\n",
    "    while True:\n",
    "        cmd = input(\"Command: \").lower()\n",
    "        if cmd == \"walk\":\n",
    "            cWalk(inv, items)\n",
    "        elif cmd == \"show\":\n",
    "            cShow(inv)\n",
    "        elif cmd == \"drop\":\n",
    "            cDrop(inv)\n",
    "        elif cmd == \"exit\":\n",
    "            print(\"Bye!\")\n",
    "            break\n",
    "        else:\n",
    "            print(\"Please enter a valid command.\")\n",
    "\n",
    "if __name__ == \"__main__\":\n",
    "    main()\n"
   ]
  },
  {
   "cell_type": "code",
   "execution_count": null,
   "metadata": {},
   "outputs": [],
   "source": []
  }
 ],
 "metadata": {
  "kernelspec": {
   "display_name": "Python [conda env:base] *",
   "language": "python",
   "name": "conda-base-py"
  },
  "language_info": {
   "codemirror_mode": {
    "name": "ipython",
    "version": 3
   },
   "file_extension": ".py",
   "mimetype": "text/x-python",
   "name": "python",
   "nbconvert_exporter": "python",
   "pygments_lexer": "ipython3",
   "version": "3.12.7"
  }
 },
 "nbformat": 4,
 "nbformat_minor": 4
}
