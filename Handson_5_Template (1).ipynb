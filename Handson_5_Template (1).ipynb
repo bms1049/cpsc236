{
 "cells": [
  {
   "cell_type": "markdown",
   "metadata": {},
   "source": [
    "# File Input\n",
    "\n",
    "To submit this assignment in D2l, post the link to your notebook file on your GitHub account."
   ]
  },
  {
   "cell_type": "markdown",
   "metadata": {},
   "source": [
    "## 7.1 Pig Dice Rules\n",
    "Create a program that reads a list of rules from a file and displays them.\n",
    "\n",
    "### Console:\n",
    "```powershell\n",
    "Pig Dice Rules:\n",
    "*\tSee how many turns it takes you to get to 20.\n",
    "*\tTurn ends when player rolls a 1 or chooses to hold.\n",
    "*\tIf you roll a 1, you lose all points earned during the turn.\n",
    "*\tIf you hold, you save all points earned during the turn.\n",
    "```\n",
    "\n",
    "### Specifications:\n",
    "- Use the attached text file named `pig_dice_rules.txt` in the corresponding Directory.\n",
    "- Your program should read the text file and display it on the console.\n"
   ]
  },
  {
   "cell_type": "code",
   "execution_count": 25,
   "metadata": {},
   "outputs": [
    {
     "name": "stdout",
     "output_type": "stream",
     "text": [
      "Pig Dice Rules:\n",
      "* See how many turns it takes you to get to 20.\n",
      "* Turn ends when player rolls a 1 or chooses to hold.\n",
      "* If you roll a 1, you lose all points earned during the turn.\n",
      "* If you hold, you save all points earned during the turn.\n"
     ]
    }
   ],
   "source": [
    "### CODE HERE ###\n",
    "def Rules():\n",
    "    f=open(\"pig_dice_rules.txt\", 'r')\n",
    "    return f.read()\n",
    "    f.close()\n",
    "def main():\n",
    "    rules=Rules()\n",
    "    print(rules)\n",
    "if (__name__==\"__main__\"):\n",
    "    main()"
   ]
  },
  {
   "cell_type": "markdown",
   "metadata": {},
   "source": [
    "## 7.2 Wizard Inventory\n",
    "Create a program that keeps track of the items that a wizard can carry.\n",
    "\n",
    "### Console:\n",
    "```powershell\n",
    "The Wizard Inventroy Program\n",
    "\n",
    "COMMAND MENU\n",
    "walk - Walk down the path \n",
    "show - Show all items \n",
    "drop - Drop an item\n",
    "exit - Exit program\n",
    "\n",
    "Command: walk\n",
    "While walking down a path, you see a scroll of uncursing. \n",
    "Do you want to grab it? (y/n): y\n",
    "You picked up a scroll of uncursing.\n",
    "\n",
    "Command: walk\n",
    "While walking down a path, you see an unknown potion. \n",
    "Do you want to grab it? (y/n): y\n",
    "You can't carry any more items. Drop something first.\n",
    "\n",
    "Command: show\n",
    "1.\ta wooden staff\n",
    "2.\ta scroll of invisibility\n",
    "3.\ta crossbow\n",
    "4.\ta scroll of uncursing\n",
    "\n",
    "Command: drop Number: 3\n",
    "You dropped a crossbow.\n",
    "\n",
    "Command: exit \n",
    "Bye!\n",
    "```\n",
    "\n",
    "### Specifications:\n",
    "- Use the attached text file named `wizard_all_items.txt` that contains a list of all the items that a wizard can carry. (in the corresponding directory)\n",
    "- When the user selects the walk command, the program should read the items from the file, randomly pick one, and give the user the option to grab it.\n",
    "- Your program should create another file that stores the items that the wizard is carrying (`wizard_inventory.txt`). Make sure to update this file every time the user grabs or drops an item.\n",
    "- The wizard can only carry **four** items at a time.\n",
    "- For the drop command, display an error message if the user enters an invalid number for the item.\n",
    "\n"
   ]
  },
  {
   "cell_type": "code",
   "execution_count": 100,
   "metadata": {},
   "outputs": [
    {
     "name": "stdout",
     "output_type": "stream",
     "text": [
      "COMMAND MENU \n",
      "walk - Walk down the path \n",
      "show - show all items \n",
      "drop - drop an item \n",
      "exit - Exit the program\n"
     ]
    },
    {
     "name": "stdin",
     "output_type": "stream",
     "text": [
      "Command: drop\n",
      "Number: 7\n"
     ]
    },
    {
     "name": "stdout",
     "output_type": "stream",
     "text": [
      "Please enter a valid number.\n"
     ]
    },
    {
     "name": "stdin",
     "output_type": "stream",
     "text": [
      "Command: drop\n",
      "Number: 2\n"
     ]
    },
    {
     "name": "stdout",
     "output_type": "stream",
     "text": [
      "You dropped a scroll of uncursing\n"
     ]
    },
    {
     "name": "stdin",
     "output_type": "stream",
     "text": [
      "Command: exit\n"
     ]
    },
    {
     "name": "stdout",
     "output_type": "stream",
     "text": [
      "Bye!\n"
     ]
    }
   ],
   "source": [
    "### CODE HERE ###\n",
    "import random\n",
    "def cMenu():\n",
    "    print(\"COMMAND MENU\",\n",
    "          \"\\nwalk - Walk down the path\", \n",
    "          \"\\nshow - show all items\", \n",
    "          \"\\ndrop - drop an item\",\n",
    "          \"\\nexit - Exit the program\")\n",
    "\n",
    "def write_inv(inv):\n",
    "    with open(\"wizard_inventory.txt\",'w') as file:\n",
    "        for item in inv:\n",
    "            file.write(item+\"\\n\")\n",
    "\n",
    "def read_inv():\n",
    "    inv=[]\n",
    "    with open(\"wizard_inventory.txt\",'r') as file:\n",
    "        for line in file:\n",
    "            line = line.replace(\"\\n\", \"\")\n",
    "            inv.append(line)\n",
    "    return inv\n",
    "\n",
    "def read_items():\n",
    "    items=[]\n",
    "    with open(\"wizard_all_items.txt\",'r') as file:\n",
    "        for line in file:\n",
    "            line=line.replace(\"\\n\", \"\")\n",
    "            items.append(line)\n",
    "    return items\n",
    "\n",
    "def cDrop(inv):\n",
    "    num=int(input(\"Number:\"))\n",
    "    if(num<len(inv)):\n",
    "        item=inv.pop(num-1)\n",
    "        write_inv(inv)\n",
    "        print(\"You dropped\", item)\n",
    "    else:\n",
    "        print(\"Please enter a valid number.\")\n",
    "\n",
    "def countItems():\n",
    "    inv=open(\"wizard_inventory.txt\",'r')\n",
    "    linec=0\n",
    "    for line in inv:\n",
    "        linec+=1\n",
    "    return linec\n",
    "\n",
    "def cShow(inv):\n",
    "    for i in range(len(inv)):\n",
    "        print(i+1,\". \", inv[i], sep=\"\")\n",
    "\n",
    "def cWalk(inv):\n",
    "    items=read_items()\n",
    "    item=random.choice(items)\n",
    "    numItems=countItems()\n",
    "    print(\"While walking down a path you see\", item)\n",
    "    grab=input(\"Do you want to grab it? (y/n)?:\")\n",
    "    if (numItems<4):\n",
    "        if (grab==\"y\"):\n",
    "            print(\"You picked up\", item)\n",
    "            inv.append(item)\n",
    "            write_inv(inv)\n",
    "        elif(grab==\"n\"):\n",
    "            print(\"you did not pick up\", item)\n",
    "        else:\n",
    "            print(\"Please use \\\"y\\\" or \\\"n\\\"\")\n",
    "    else:\n",
    "        print(\"You can't carry anything else, please drop an item\")\n",
    "\n",
    "def main():\n",
    "    cMenu()\n",
    "    items=read_items()\n",
    "    inv=read_inv()\n",
    "    while True:\n",
    "        cmd=input(\"Command:\")\n",
    "        if cmd==\"walk\":\n",
    "            cWalk(inv)\n",
    "        elif cmd==\"show\":\n",
    "            cShow(inv)\n",
    "        elif cmd==\"drop\":\n",
    "            cDrop(inv)\n",
    "        elif cmd==\"exit\":\n",
    "            print(\"Bye!\")\n",
    "            break\n",
    "        else:\n",
    "            print(\"Please enter a valid command.\")\n",
    "\n",
    "        \n",
    "if __name__==\"__main__\":\n",
    "    main()\n",
    "    "
   ]
  },
  {
   "cell_type": "markdown",
   "metadata": {},
   "source": [
    "## 7.3 Monthly Sales\n",
    "Create a program that reads the sales for 12 months from a file and calculates the total yearly sales as well as the average monthly sales. In addition, this program should let the user edit the sales for any month.\n",
    "\n",
    "### Console:\n",
    "```powershell\n",
    "Monthly Sales program\n",
    "\n",
    "COMMAND MENU\n",
    "monthly - View monthly sales \n",
    "yearly\t- View yearly sumary \n",
    "edit\t- Edit sales for a month \n",
    "exit\t- Exit program\n",
    "\n",
    "Command: monthly \n",
    "Jan - 14317\n",
    "Feb - 3903\n",
    "Mar - 1073\n",
    "Apr - 3463\n",
    "May - 2429\n",
    "Jun - 4324\n",
    "Jul - 9762\n",
    "Aug - 15578\n",
    "Sep - 2437\n",
    "Oct - 6735\n",
    "Nov - 88\n",
    "Dec - 2497\n",
    "\n",
    "Command: yearly\n",
    "Yearly total:\t66606\n",
    "Monthly average:\t5550.5\n",
    "\n",
    "Command: edit\n",
    "Three-letter Month: Nov Sales Amount: 8854\n",
    "Sales amount for Nov was modified.\n",
    "\n",
    "Command: exit Bye!\n",
    "```\n",
    "\n",
    "### Specifications:\n",
    "- Use the attached text file named CSV file named `monthly_sales.csv` that contains the month and sales data shown above.\n",
    "- For the edit command, display an error message if the user doesn’t enter a valid three-letter abbreviation for the month.\n",
    "- When the user edits the sales amount for a month, the data should be saved to the CSV file immediately. That way, no data is lost, even if the program crashes later.\n",
    "- Round the results of the monthly average to a maximum of 2 decimal digits."
   ]
  },
  {
   "cell_type": "code",
   "execution_count": 147,
   "metadata": {},
   "outputs": [
    {
     "name": "stdout",
     "output_type": "stream",
     "text": [
      "COMMAND MENU \n",
      "monthly - View monlthy sales \n",
      "yearly  - View yearly summary \n",
      "edit    - Edit sales for a month \n",
      "exit    - Exit program\n"
     ]
    },
    {
     "name": "stdin",
     "output_type": "stream",
     "text": [
      "Command: monthly\n"
     ]
    },
    {
     "name": "stdout",
     "output_type": "stream",
     "text": [
      "Jan - 14317\n",
      "Feb - 3903\n",
      "Mar - 1073\n",
      "Apr - 3463\n",
      "May - 2429\n",
      "Jun - 4324\n",
      "Jul - 9762\n",
      "Aug - 15578\n",
      "Sep - 2437\n",
      "Oct - 6735\n",
      "Nov - 88\n",
      "Dec - 2497\n"
     ]
    },
    {
     "name": "stdin",
     "output_type": "stream",
     "text": [
      "Command: yearly\n"
     ]
    },
    {
     "name": "stdout",
     "output_type": "stream",
     "text": [
      "Yearly Total: 66606 Monthly Average: 5550.5\n"
     ]
    },
    {
     "name": "stdin",
     "output_type": "stream",
     "text": [
      "Command: edit\n",
      "Three-letter month: Jan\n",
      "Sales Amount: 12\n"
     ]
    },
    {
     "name": "stdout",
     "output_type": "stream",
     "text": [
      "Sales amount for Jan was modified.\n"
     ]
    },
    {
     "name": "stdin",
     "output_type": "stream",
     "text": [
      "Command: yearly\n"
     ]
    },
    {
     "name": "stdout",
     "output_type": "stream",
     "text": [
      "Yearly Total: 52301 Monthly Average: 4358.42\n"
     ]
    },
    {
     "name": "stdin",
     "output_type": "stream",
     "text": [
      "Command: monthly\n"
     ]
    },
    {
     "name": "stdout",
     "output_type": "stream",
     "text": [
      "Jan - 12\n",
      "Feb - 3903\n",
      "Mar - 1073\n",
      "Apr - 3463\n",
      "May - 2429\n",
      "Jun - 4324\n",
      "Jul - 9762\n",
      "Aug - 15578\n",
      "Sep - 2437\n",
      "Oct - 6735\n",
      "Nov - 88\n",
      "Dec - 2497\n"
     ]
    },
    {
     "name": "stdin",
     "output_type": "stream",
     "text": [
      "Command: exit\n"
     ]
    },
    {
     "name": "stdout",
     "output_type": "stream",
     "text": [
      "Bye!\n"
     ]
    }
   ],
   "source": [
    "### CODE HERE ###\n",
    "import csv\n",
    "\n",
    "def cMenu():\n",
    "    print(\"COMMAND MENU\",\n",
    "          \"\\nmonthly - View monlthy sales\",\n",
    "          \"\\nyearly  - View yearly summary\", \n",
    "          \"\\nedit    - Edit sales for a month\", \n",
    "          \"\\nexit    - Exit program\")\n",
    "    \n",
    "def write_sales(sales):\n",
    "    with open(\"monthly_sales.csv\", newline=\"\") as file:\n",
    "        writer=csv.writer(file)\n",
    "        writer.writerows(movies)\n",
    "\n",
    "def read_sales():\n",
    "    sales=[]\n",
    "    with open (\"monthly_sales.csv\", newline=\"\") as file:\n",
    "        reader=csv.reader(file)\n",
    "        for row in reader:\n",
    "            sales.append(row)\n",
    "    return sales\n",
    "\n",
    "def cMonthly(sales):\n",
    "    for i in range(len(sales)):\n",
    "        month=sales[i]\n",
    "        print(month[0], \"-\", month[1])\n",
    "\n",
    "def cYearly(sales):\n",
    "    total=0\n",
    "    for i in range(len(sales)):\n",
    "        month=sales[i]\n",
    "        total+=int(month[1])\n",
    "    savg=round(total/12, 2)\n",
    "    print(\"Yearly Total:\", total, \n",
    "          \"Monthly Average:\", savg)\n",
    "\n",
    "def cEdit(sales):\n",
    "    month=input(\"Three-letter month:\")\n",
    "    if month==\"Jan\":\n",
    "        sales[0][1]=int(input(\"Sales Amount:\"))\n",
    "    elif month==\"Feb\":\n",
    "        sales[1][1]=int(input(\"Sales Amount:\"))\n",
    "    elif month==\"Mar\":\n",
    "        sales[2][1]=int(input(\"Sales Amount:\"))    \n",
    "    elif month==\"Apr\":\n",
    "        sales[3][1]=int(input(\"Sales Amount:\"))\n",
    "    elif month==\"May\":\n",
    "        sales[4][1]=int(input(\"Sales Amount:\"))\n",
    "    elif month==\"Jun\":\n",
    "        sales[5][1]=int(input(\"Sales Amount:\"))\n",
    "    elif month==\"Jul\":\n",
    "        sales[6][1]=int(input(\"Sales Amount:\"))\n",
    "    elif month==\"Aug\":\n",
    "        sales[7][1]=int(input(\"Sales Amount:\"))\n",
    "    elif month==\"Sep\":\n",
    "        sales[8][1]=int(input(\"Sales Amount:\"))\n",
    "    elif month==\"Oct\":\n",
    "        sales[9][1]=int(input(\"Sales Amount:\"))\n",
    "    elif month==\"Nov\":\n",
    "        sales[10][1]=int(input(\"Sales Amount:\"))\n",
    "    elif month==\"Dec\":\n",
    "        sales[11][1]=int(input(\"Sales Amount:\"))\n",
    "    else:\n",
    "        print(\"Please enter the correct 3-letter month.\")\n",
    "\n",
    "    print(\"Sales amount for\", month, \"was modified.\")\n",
    "        \n",
    "\n",
    "def main():\n",
    "    cMenu()\n",
    "    sales=read_sales()\n",
    "    while True:\n",
    "        cmd=input(\"Command:\")\n",
    "        if cmd==\"monthly\":\n",
    "            cMonthly(sales)\n",
    "        elif cmd==\"yearly\":\n",
    "            cYearly(sales)\n",
    "        elif cmd==\"edit\":\n",
    "            cEdit(sales)\n",
    "        elif cmd==\"exit\":\n",
    "            print(\"Bye!\")\n",
    "            break\n",
    "        else:\n",
    "            print(\"Please enter a valid command.\")\n",
    "\n",
    "\n",
    "if __name__==\"__main__\":\n",
    "    main()"
   ]
  },
  {
   "cell_type": "code",
   "execution_count": null,
   "metadata": {},
   "outputs": [],
   "source": []
  }
 ],
 "metadata": {
  "kernelspec": {
   "display_name": "Python [conda env:base] *",
   "language": "python",
   "name": "conda-base-py"
  },
  "language_info": {
   "codemirror_mode": {
    "name": "ipython",
    "version": 3
   },
   "file_extension": ".py",
   "mimetype": "text/x-python",
   "name": "python",
   "nbconvert_exporter": "python",
   "pygments_lexer": "ipython3",
   "version": "3.12.7"
  }
 },
 "nbformat": 4,
 "nbformat_minor": 4
}
